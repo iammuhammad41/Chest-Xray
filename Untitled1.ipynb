{
 "cells": [
  {
   "cell_type": "code",
   "execution_count": 4,
   "id": "e6e20db8",
   "metadata": {},
   "outputs": [],
   "source": [
    "import glob\n",
    "import os"
   ]
  },
  {
   "cell_type": "code",
   "execution_count": 5,
   "id": "30c6539d",
   "metadata": {},
   "outputs": [
    {
     "ename": "NameError",
     "evalue": "name 'root' is not defined",
     "output_type": "error",
     "traceback": [
      "\u001b[0;31m---------------------------------------------------------------------------\u001b[0m",
      "\u001b[0;31mNameError\u001b[0m                                 Traceback (most recent call last)",
      "Input \u001b[0;32mIn [5]\u001b[0m, in \u001b[0;36m<cell line: 2>\u001b[0;34m()\u001b[0m\n\u001b[1;32m      1\u001b[0m \u001b[38;5;66;03m# read dataset\u001b[39;00m\n\u001b[0;32m----> 2\u001b[0m base_dir \u001b[38;5;241m=\u001b[39m os\u001b[38;5;241m.\u001b[39mpath\u001b[38;5;241m.\u001b[39mjoin(\u001b[43mroot\u001b[49m)\n\u001b[1;32m      3\u001b[0m PNEUMONIA_dir \u001b[38;5;241m=\u001b[39m os\u001b[38;5;241m.\u001b[39mpath\u001b[38;5;241m.\u001b[39mjoin(base_dir,\u001b[38;5;124m'\u001b[39m\u001b[38;5;124mPNEUMONIA\u001b[39m\u001b[38;5;124m'\u001b[39m)\n\u001b[1;32m      4\u001b[0m NORMAL_dir \u001b[38;5;241m=\u001b[39m os\u001b[38;5;241m.\u001b[39mpath\u001b[38;5;241m.\u001b[39mjoin(base_dir,\u001b[38;5;124m'\u001b[39m\u001b[38;5;124mNORMAL\u001b[39m\u001b[38;5;124m'\u001b[39m)\n",
      "\u001b[0;31mNameError\u001b[0m: name 'root' is not defined"
     ]
    }
   ],
   "source": [
    "# # read dataset\n",
    "# base_dir = os.path.join(root)\n",
    "# PNEUMONIA_dir = os.path.join(base_dir,'PNEUMONIA')\n",
    "# NORMAL_dir = os.path.join(base_dir,'NORMAL')\n",
    "\n",
    "\n",
    "# PNEUMONIA_files = glob.glob(PNEUMONIA_dir+'/*.jpeg')\n",
    "# NORMAL_files = glob.glob(NORMAL_dir+'/*.jpeg')\n",
    "\n",
    "\n",
    "# len(PNEUMONIA_files), len(NORMAL_files)"
   ]
  },
  {
   "cell_type": "code",
   "execution_count": 7,
   "id": "30d037df",
   "metadata": {},
   "outputs": [],
   "source": [
    "main_directory = '/home/song/Downloads/Bhai_data_analysis/Chest_Xray/ChestXRay2017/data/train'\n",
    "\n",
    "num_select = 500\n",
    "x_nrm = glob.glob(main_directory + '/*/NORMAL/*.jpeg')[:num_select]\n",
    "x_ph = glob.glob(main_directory + '/*/PNEUMONIA/*.jpeg')[:num_select]\n",
    "y_nrm = [0] * len(x_nrm)\n",
    "y_ph = [1] * len(x_ph)\n",
    "\n",
    "\n",
    "x, y = x_nrm + x_ph, y_nrm + y_ph"
   ]
  },
  {
   "cell_type": "code",
   "execution_count": 8,
   "id": "37575188",
   "metadata": {},
   "outputs": [
    {
     "ename": "ValueError",
     "evalue": "With n_samples=0, test_size=0.2 and train_size=None, the resulting train set will be empty. Adjust any of the aforementioned parameters.",
     "output_type": "error",
     "traceback": [
      "\u001b[0;31m---------------------------------------------------------------------------\u001b[0m",
      "\u001b[0;31mValueError\u001b[0m                                Traceback (most recent call last)",
      "Input \u001b[0;32mIn [8]\u001b[0m, in \u001b[0;36m<cell line: 3>\u001b[0;34m()\u001b[0m\n\u001b[1;32m      1\u001b[0m \u001b[38;5;28;01mfrom\u001b[39;00m \u001b[38;5;21;01msklearn\u001b[39;00m\u001b[38;5;21;01m.\u001b[39;00m\u001b[38;5;21;01mmodel_selection\u001b[39;00m \u001b[38;5;28;01mimport\u001b[39;00m train_test_split\n\u001b[0;32m----> 3\u001b[0m x_train, x_test_valid, y_train, y_test_valid \u001b[38;5;241m=\u001b[39m \u001b[43mtrain_test_split\u001b[49m\u001b[43m(\u001b[49m\u001b[43mx\u001b[49m\u001b[43m,\u001b[49m\u001b[43m \u001b[49m\n\u001b[1;32m      4\u001b[0m \u001b[43m                                                                \u001b[49m\u001b[43my\u001b[49m\u001b[43m,\u001b[49m\u001b[43m \u001b[49m\n\u001b[1;32m      5\u001b[0m \u001b[43m                                                                \u001b[49m\u001b[43mtest_size\u001b[49m\u001b[38;5;241;43m=\u001b[39;49m\u001b[38;5;241;43m0.20\u001b[39;49m\u001b[43m,\u001b[49m\n\u001b[1;32m      6\u001b[0m \u001b[43m                                                                \u001b[49m\u001b[43mshuffle\u001b[49m\u001b[38;5;241;43m=\u001b[39;49m\u001b[38;5;28;43;01mTrue\u001b[39;49;00m\u001b[43m,\u001b[49m\n\u001b[1;32m      7\u001b[0m \u001b[43m                                                                \u001b[49m\u001b[43mrandom_state\u001b[49m\u001b[38;5;241;43m=\u001b[39;49m\u001b[38;5;241;43m42\u001b[39;49m\u001b[43m)\u001b[49m\n\u001b[1;32m      9\u001b[0m x_test, x_valid, y_test, y_valid \u001b[38;5;241m=\u001b[39m train_test_split(x_test_valid, \n\u001b[1;32m     10\u001b[0m                                                     y_test_valid, \n\u001b[1;32m     11\u001b[0m                                                     test_size\u001b[38;5;241m=\u001b[39m\u001b[38;5;241m0.5\u001b[39m,\n\u001b[1;32m     12\u001b[0m                                                     shuffle\u001b[38;5;241m=\u001b[39m\u001b[38;5;28;01mTrue\u001b[39;00m,\n\u001b[1;32m     13\u001b[0m                                                     random_state\u001b[38;5;241m=\u001b[39m\u001b[38;5;241m42\u001b[39m\n\u001b[1;32m     14\u001b[0m                                                      )\n\u001b[1;32m     16\u001b[0m \u001b[38;5;28mlen\u001b[39m(x_train), \u001b[38;5;28mlen\u001b[39m(x_valid), \u001b[38;5;28mlen\u001b[39m(x_test)\n",
      "File \u001b[0;32m~/anaconda3/envs/Action/lib/python3.10/site-packages/sklearn/model_selection/_split.py:2433\u001b[0m, in \u001b[0;36mtrain_test_split\u001b[0;34m(test_size, train_size, random_state, shuffle, stratify, *arrays)\u001b[0m\n\u001b[1;32m   2430\u001b[0m arrays \u001b[38;5;241m=\u001b[39m indexable(\u001b[38;5;241m*\u001b[39marrays)\n\u001b[1;32m   2432\u001b[0m n_samples \u001b[38;5;241m=\u001b[39m _num_samples(arrays[\u001b[38;5;241m0\u001b[39m])\n\u001b[0;32m-> 2433\u001b[0m n_train, n_test \u001b[38;5;241m=\u001b[39m \u001b[43m_validate_shuffle_split\u001b[49m\u001b[43m(\u001b[49m\n\u001b[1;32m   2434\u001b[0m \u001b[43m    \u001b[49m\u001b[43mn_samples\u001b[49m\u001b[43m,\u001b[49m\u001b[43m \u001b[49m\u001b[43mtest_size\u001b[49m\u001b[43m,\u001b[49m\u001b[43m \u001b[49m\u001b[43mtrain_size\u001b[49m\u001b[43m,\u001b[49m\u001b[43m \u001b[49m\u001b[43mdefault_test_size\u001b[49m\u001b[38;5;241;43m=\u001b[39;49m\u001b[38;5;241;43m0.25\u001b[39;49m\n\u001b[1;32m   2435\u001b[0m \u001b[43m\u001b[49m\u001b[43m)\u001b[49m\n\u001b[1;32m   2437\u001b[0m \u001b[38;5;28;01mif\u001b[39;00m shuffle \u001b[38;5;129;01mis\u001b[39;00m \u001b[38;5;28;01mFalse\u001b[39;00m:\n\u001b[1;32m   2438\u001b[0m     \u001b[38;5;28;01mif\u001b[39;00m stratify \u001b[38;5;129;01mis\u001b[39;00m \u001b[38;5;129;01mnot\u001b[39;00m \u001b[38;5;28;01mNone\u001b[39;00m:\n",
      "File \u001b[0;32m~/anaconda3/envs/Action/lib/python3.10/site-packages/sklearn/model_selection/_split.py:2111\u001b[0m, in \u001b[0;36m_validate_shuffle_split\u001b[0;34m(n_samples, test_size, train_size, default_test_size)\u001b[0m\n\u001b[1;32m   2108\u001b[0m n_train, n_test \u001b[38;5;241m=\u001b[39m \u001b[38;5;28mint\u001b[39m(n_train), \u001b[38;5;28mint\u001b[39m(n_test)\n\u001b[1;32m   2110\u001b[0m \u001b[38;5;28;01mif\u001b[39;00m n_train \u001b[38;5;241m==\u001b[39m \u001b[38;5;241m0\u001b[39m:\n\u001b[0;32m-> 2111\u001b[0m     \u001b[38;5;28;01mraise\u001b[39;00m \u001b[38;5;167;01mValueError\u001b[39;00m(\n\u001b[1;32m   2112\u001b[0m         \u001b[38;5;124m\"\u001b[39m\u001b[38;5;124mWith n_samples=\u001b[39m\u001b[38;5;132;01m{}\u001b[39;00m\u001b[38;5;124m, test_size=\u001b[39m\u001b[38;5;132;01m{}\u001b[39;00m\u001b[38;5;124m and train_size=\u001b[39m\u001b[38;5;132;01m{}\u001b[39;00m\u001b[38;5;124m, the \u001b[39m\u001b[38;5;124m\"\u001b[39m\n\u001b[1;32m   2113\u001b[0m         \u001b[38;5;124m\"\u001b[39m\u001b[38;5;124mresulting train set will be empty. Adjust any of the \u001b[39m\u001b[38;5;124m\"\u001b[39m\n\u001b[1;32m   2114\u001b[0m         \u001b[38;5;124m\"\u001b[39m\u001b[38;5;124maforementioned parameters.\u001b[39m\u001b[38;5;124m\"\u001b[39m\u001b[38;5;241m.\u001b[39mformat(n_samples, test_size, train_size)\n\u001b[1;32m   2115\u001b[0m     )\n\u001b[1;32m   2117\u001b[0m \u001b[38;5;28;01mreturn\u001b[39;00m n_train, n_test\n",
      "\u001b[0;31mValueError\u001b[0m: With n_samples=0, test_size=0.2 and train_size=None, the resulting train set will be empty. Adjust any of the aforementioned parameters."
     ]
    }
   ],
   "source": [
    "from sklearn.model_selection import train_test_split\n",
    "\n",
    "x_train, x_test_valid, y_train, y_test_valid = train_test_split(x, \n",
    "                                                                y, \n",
    "                                                                test_size=0.20,\n",
    "                                                                shuffle=True,\n",
    "                                                                random_state=42)\n",
    "\n",
    "x_test, x_valid, y_test, y_valid = train_test_split(x_test_valid, \n",
    "                                                    y_test_valid, \n",
    "                                                    test_size=0.5,\n",
    "                                                    shuffle=True,\n",
    "                                                    random_state=42\n",
    "                                                     )\n",
    "\n",
    "len(x_train), len(x_valid), len(x_test) #(800, 100, 100)"
   ]
  },
  {
   "cell_type": "code",
   "execution_count": null,
   "id": "08aa2821",
   "metadata": {},
   "outputs": [],
   "source": [
    "import os\n",
    "import glob\n",
    "import numpy as np\n",
    "import pandas as pd\n",
    "from sklearn.model_selection import train_test_split\n",
    "\n",
    "# Set the root folder of the dataset\n",
    "root = \"/home/song/Downloads/Bhai_data_analysis/Chest_Xray/ChestXRay2017/data/train\"\n",
    "\n",
    "# Read dataset\n",
    "base_dir = os.path.join(root)\n",
    "PNEUMONIA_dir = os.path.join(base_dir, 'PNEUMONIA')\n",
    "NORMAL_dir = os.path.join(base_dir, 'NORMAL')\n",
    "\n",
    "PNEUMONIA_files = glob.glob(PNEUMONIA_dir + '/*.jpeg')\n",
    "NORMAL_files = glob.glob(NORMAL_dir + '/*.jpeg')\n",
    "\n",
    "# Create labels (Pneumonia=1, Normal=0)\n",
    "labels = np.array([1] * len(PNEUMONIA_files) + [0] * len(NORMAL_files))\n",
    "\n",
    "# Combine filenames and labels into a DataFrame\n",
    "files_df = pd.DataFrame({\n",
    "    'filename': PNEUMONIA_files + NORMAL_files,\n",
    "    'label': labels\n",
    "}).sample(frac=1, random_state=42).reset_index(drop=True)\n",
    "\n",
    "# Extract features (filenames) and labels from the DataFrame\n",
    "x = files_df['filename'].values\n",
    "y = files_df['label'].values\n",
    "\n",
    "# Split data into train, test, and validation sets\n",
    "x_train, x_test_valid, y_train, y_test_valid = train_test_split(x, y, test_size=0.20, shuffle=True, random_state=42)\n",
    "x_test, x_valid, y_test, y_valid = train_test_split(x_test_valid, y_test_valid, test_size=0.5, shuffle=True, random_state=42)\n",
    "\n",
    "# Check the lengths of the sets\n",
    "len(x_train), len(x_valid), len(x_test)  # (800, 100, 100)\n"
   ]
  },
  {
   "cell_type": "code",
   "execution_count": null,
   "id": "8d3e06db",
   "metadata": {},
   "outputs": [],
   "source": [
    "len(x_train), len(x_valid), len(x_test) "
   ]
  },
  {
   "cell_type": "code",
   "execution_count": 2,
   "id": "8fb6250e",
   "metadata": {},
   "outputs": [
    {
     "name": "stdout",
     "output_type": "stream",
     "text": [
      "Looking in indexes: http://pypi.douban.com/simple\n",
      "Collecting torchvision\n",
      "  Downloading http://pypi.doubanio.com/packages/31/71/a362404ae76eaac714f704cb3338d8bfdf3692004a0e0799e002260a1391/torchvision-0.15.2-cp38-cp38-manylinux1_x86_64.whl (33.8 MB)\n",
      "\u001b[K     |████████████████████████████████| 33.8 MB 92 kB/s s eta 0:00:01\n",
      "\u001b[?25hRequirement already satisfied: pillow!=8.3.*,>=5.3.0 in /home/song/anaconda3/lib/python3.8/site-packages (from torchvision) (8.2.0)\n",
      "Requirement already satisfied: requests in /home/song/anaconda3/lib/python3.8/site-packages (from torchvision) (2.25.1)\n",
      "Collecting torch==2.0.1\n",
      "  Downloading http://pypi.doubanio.com/packages/96/28/026dc037f177d53558477931677b120f649dd5a0dcdc4b44dc38b3d75711/torch-2.0.1-cp38-cp38-manylinux1_x86_64.whl (619.9 MB)\n",
      "\u001b[K     |████████████████████████████████| 619.9 MB 12 kB/s  eta 0:00:0135  |█▉                              | 35.9 MB 1.6 MB/s eta 0:06:02     |██                              | 39.9 MB 1.6 MB/s eta 0:05:59     |███▋                            | 69.4 MB 1.7 MB/s eta 0:05:25     |██████████                      | 195.1 MB 4.8 MB/s eta 0:01:29     |███████████▊                    | 227.6 MB 4.7 MB/s eta 0:01:24     |████████████████▉               | 325.2 MB 6.2 MB/s eta 0:00:48��██████████████    | 542.8 MB 25.5 MB/s eta 0:00:04\n",
      "\u001b[?25hRequirement already satisfied: numpy in /home/song/anaconda3/lib/python3.8/site-packages (from torchvision) (1.24.4)\n",
      "Requirement already satisfied: filelock in /home/song/anaconda3/lib/python3.8/site-packages (from torch==2.0.1->torchvision) (3.0.12)\n",
      "Collecting triton==2.0.0\n",
      "  Downloading http://pypi.doubanio.com/packages/a6/4b/28142a3c70621cb3398ac626c276268ca87af50a3fa43667a834fa5d13bf/triton-2.0.0-1-cp38-cp38-manylinux2014_x86_64.manylinux_2_17_x86_64.whl (63.2 MB)\n",
      "\u001b[K     |████████████████████████████████| 63.2 MB 2.0 kB/s eta 0:00:01\n",
      "\u001b[?25hRequirement already satisfied: networkx in /home/song/anaconda3/lib/python3.8/site-packages (from torch==2.0.1->torchvision) (2.5)\n",
      "Collecting nvidia-cufft-cu11==10.9.0.58\n",
      "  Downloading http://pypi.doubanio.com/packages/74/79/b912a77e38e41f15a0581a59f5c3548d1ddfdda3225936fb67c342719e7a/nvidia_cufft_cu11-10.9.0.58-py3-none-manylinux1_x86_64.whl (168.4 MB)\n",
      "\u001b[K     |████████████████████████████████| 168.4 MB 71 kB/s s eta 0:00:01    |██████████████▊                 | 77.6 MB 402 kB/s eta 0:03:46\n",
      "\u001b[?25hCollecting nvidia-cusolver-cu11==11.4.0.1\n",
      "  Downloading http://pypi.doubanio.com/packages/3e/77/66149e3153b19312fb782ea367f3f950123b93916a45538b573fe373570a/nvidia_cusolver_cu11-11.4.0.1-2-py3-none-manylinux1_x86_64.whl (102.6 MB)\n",
      "\u001b[K     |████████████████████████████████| 102.6 MB 3.5 kB/s eta 0:00:01     |████                            | 12.6 MB 18.4 MB/s eta 0:00:05     |██████████████████████████▌     | 85.0 MB 2.8 MB/s eta 0:00:07\n",
      "\u001b[?25hCollecting nvidia-cuda-nvrtc-cu11==11.7.99\n",
      "  Downloading http://pypi.doubanio.com/packages/ef/25/922c5996aada6611b79b53985af7999fc629aee1d5d001b6a22431e18fec/nvidia_cuda_nvrtc_cu11-11.7.99-2-py3-none-manylinux1_x86_64.whl (21.0 MB)\n",
      "\u001b[K     |████████████████████████████████| 21.0 MB 62 kB/s s eta 0:00:01\n",
      "\u001b[?25hCollecting nvidia-cudnn-cu11==8.5.0.96\n",
      "  Downloading http://pypi.doubanio.com/packages/dc/30/66d4347d6e864334da5bb1c7571305e501dcb11b9155971421bb7bb5315f/nvidia_cudnn_cu11-8.5.0.96-2-py3-none-manylinux1_x86_64.whl (557.1 MB)\n",
      "\u001b[K     |████████████████████████████████| 557.1 MB 6.7 kB/s eta 0:00:0111    |█████████                       | 156.9 MB 6.9 MB/s eta 0:00:5813.4 MB 5.9 MB/s eta 0:00:42     |████████████████████████▍       | 424.7 MB 118.7 MB/s eta 0:00:02��███████▌  | 513.9 MB 92.7 MB/s eta 0:00:01██████████████████████████▊  | 518.4 MB 92.7 MB/s eta 0:00:01\n",
      "\u001b[?25hCollecting nvidia-curand-cu11==10.2.10.91\n",
      "  Downloading http://pypi.doubanio.com/packages/8f/11/af78d54b2420e64a4dd19e704f5bb69dcb5a6a3138b4465d6a48cdf59a21/nvidia_curand_cu11-10.2.10.91-py3-none-manylinux1_x86_64.whl (54.6 MB)\n",
      "\u001b[K     |████████████████████████████████| 54.6 MB 2.5 MB/s eta 0:00:012\n",
      "\u001b[?25hRequirement already satisfied: jinja2 in /home/song/anaconda3/lib/python3.8/site-packages (from torch==2.0.1->torchvision) (2.11.3)\n",
      "Requirement already satisfied: typing-extensions in /home/song/anaconda3/lib/python3.8/site-packages (from torch==2.0.1->torchvision) (3.7.4.3)\n",
      "Collecting nvidia-nccl-cu11==2.14.3\n",
      "  Downloading http://pypi.doubanio.com/packages/55/92/914cdb650b6a5d1478f83148597a25e90ea37d739bd563c5096b0e8a5f43/nvidia_nccl_cu11-2.14.3-py3-none-manylinux1_x86_64.whl (177.1 MB)\n",
      "\u001b[K     |████████████████████████████████| 177.1 MB 54 kB/s  eta 0:00:01     |██████▏                         | 34.1 MB 6.1 MB/s eta 0:00:24     |████████████████████████        | 133.3 MB 7.2 MB/s eta 0:00:07��███████████████████▊   | 159.0 MB 3.8 MB/s eta 0:00:05█████▋ | 169.4 MB 3.8 MB/s eta 0:00:03\n",
      "\u001b[?25hCollecting nvidia-nvtx-cu11==11.7.91\n",
      "  Downloading http://pypi.doubanio.com/packages/23/d5/09493ff0e64fd77523afbbb075108f27a13790479efe86b9ffb4587671b5/nvidia_nvtx_cu11-11.7.91-py3-none-manylinux1_x86_64.whl (98 kB)\n",
      "\u001b[K     |████████████████████████████████| 98 kB 1.9 MB/s  eta 0:00:01\n",
      "\u001b[?25hCollecting nvidia-cuda-runtime-cu11==11.7.99\n",
      "  Downloading http://pypi.doubanio.com/packages/36/92/89cf558b514125d2ebd8344dd2f0533404b416486ff681d5434a5832a019/nvidia_cuda_runtime_cu11-11.7.99-py3-none-manylinux1_x86_64.whl (849 kB)\n",
      "\u001b[K     |████████████████████████████████| 849 kB 32.3 MB/s eta 0:00:01\n",
      "\u001b[?25hRequirement already satisfied: sympy in /home/song/anaconda3/lib/python3.8/site-packages (from torch==2.0.1->torchvision) (1.8)\n",
      "Collecting nvidia-cuda-cupti-cu11==11.7.101\n",
      "  Downloading http://pypi.doubanio.com/packages/e6/9d/dd0cdcd800e642e3c82ee3b5987c751afd4f3fb9cc2752517f42c3bc6e49/nvidia_cuda_cupti_cu11-11.7.101-py3-none-manylinux1_x86_64.whl (11.8 MB)\n",
      "\u001b[K     |████████████████████████████████| 11.8 MB 29.0 MB/s eta 0:00:01\n",
      "\u001b[?25hCollecting nvidia-cublas-cu11==11.10.3.66\n",
      "  Downloading http://pypi.doubanio.com/packages/ce/41/fdeb62b5437996e841d83d7d2714ca75b886547ee8017ee2fe6ea409d983/nvidia_cublas_cu11-11.10.3.66-py3-none-manylinux1_x86_64.whl (317.1 MB)\n",
      "\u001b[K     |████████████████████████████████| 317.1 MB 23 kB/s  eta 0:00:0122██████████▏                    | 110.6 MB 2.4 MB/s eta 0:01:26     |████████████████▊               | 166.2 MB 49.3 MB/s eta 0:00:04| 201.4 MB 57.6 MB/s eta 0:00:03\n",
      "\u001b[?25hCollecting nvidia-cusparse-cu11==11.7.4.91\n",
      "  Downloading http://pypi.doubanio.com/packages/ea/6f/6d032cc1bb7db88a989ddce3f4968419a7edeafda362847f42f614b1f845/nvidia_cusparse_cu11-11.7.4.91-py3-none-manylinux1_x86_64.whl (173.2 MB)\n",
      "\u001b[K     |████████████████████████████████| 173.2 MB 22 kB/s  eta 0:00:013K     |██████▍                         | 34.6 MB 1.3 MB/s eta 0:01:47\n",
      "\u001b[?25hRequirement already satisfied: setuptools in /home/song/anaconda3/lib/python3.8/site-packages (from nvidia-cublas-cu11==11.10.3.66->torch==2.0.1->torchvision) (52.0.0.post20210125)\n",
      "Requirement already satisfied: wheel in /home/song/anaconda3/lib/python3.8/site-packages (from nvidia-cublas-cu11==11.10.3.66->torch==2.0.1->torchvision) (0.36.2)\n",
      "Collecting cmake\n",
      "  Downloading http://pypi.doubanio.com/packages/1d/de/48d485d12285cd53e322fb7bdb263778820984d4be54c2bb2fb5eced5e87/cmake-3.26.3-py2.py3-none-manylinux2014_x86_64.manylinux_2_17_x86_64.whl (24.0 MB)\n",
      "\u001b[K     |████████████████████████████████| 24.0 MB 2.7 MB/s eta 0:00:01\n",
      "\u001b[?25hCollecting lit\n",
      "  Downloading http://pypi.doubanio.com/packages/bf/fa/0b75c53253ebf3ab566be702a9da16f5783862d8c1ae404c907a8830f283/lit-16.0.6.tar.gz (153 kB)\n",
      "\u001b[K     |████████████████████████████████| 153 kB 4.7 MB/s eta 0:00:01\n",
      "\u001b[?25h  Installing build dependencies ... \u001b[?25ldone\n",
      "\u001b[?25h  Getting requirements to build wheel ... \u001b[?25ldone\n",
      "\u001b[?25h  Installing backend dependencies ... \u001b[?25ldone\n",
      "\u001b[?25h    Preparing wheel metadata ... \u001b[?25ldone\n",
      "\u001b[?25hRequirement already satisfied: MarkupSafe>=0.23 in /home/song/anaconda3/lib/python3.8/site-packages (from jinja2->torch==2.0.1->torchvision) (1.1.1)\n",
      "Requirement already satisfied: decorator>=4.3.0 in /home/song/anaconda3/lib/python3.8/site-packages (from networkx->torch==2.0.1->torchvision) (5.0.6)\n",
      "Requirement already satisfied: idna<3,>=2.5 in /home/song/anaconda3/lib/python3.8/site-packages (from requests->torchvision) (2.10)\n",
      "Requirement already satisfied: chardet<5,>=3.0.2 in /home/song/anaconda3/lib/python3.8/site-packages (from requests->torchvision) (4.0.0)\n",
      "Requirement already satisfied: urllib3<1.27,>=1.21.1 in /home/song/anaconda3/lib/python3.8/site-packages (from requests->torchvision) (1.26.4)\n",
      "Requirement already satisfied: certifi>=2017.4.17 in /home/song/anaconda3/lib/python3.8/site-packages (from requests->torchvision) (2020.12.5)\n",
      "Requirement already satisfied: mpmath>=0.19 in /home/song/anaconda3/lib/python3.8/site-packages (from sympy->torch==2.0.1->torchvision) (1.2.1)\n"
     ]
    },
    {
     "name": "stdout",
     "output_type": "stream",
     "text": [
      "Building wheels for collected packages: lit\n",
      "  Building wheel for lit (PEP 517) ... \u001b[?25ldone\n",
      "\u001b[?25h  Created wheel for lit: filename=lit-16.0.6-py3-none-any.whl size=93582 sha256=b1169ad141c06e696c566f6063003979ecf60e8bb2cfb97a77d7a7fa68d81e77\n",
      "  Stored in directory: /home/song/.cache/pip/wheels/f8/d9/12/e269d7a1c110469720529d51d9f2de1e570b863726b7797e5c\n",
      "Successfully built lit\n",
      "Installing collected packages: nvidia-cublas-cu11, lit, cmake, triton, nvidia-nvtx-cu11, nvidia-nccl-cu11, nvidia-cusparse-cu11, nvidia-cusolver-cu11, nvidia-curand-cu11, nvidia-cufft-cu11, nvidia-cudnn-cu11, nvidia-cuda-runtime-cu11, nvidia-cuda-nvrtc-cu11, nvidia-cuda-cupti-cu11, torch, torchvision\n",
      "Successfully installed cmake-3.26.3 lit-16.0.6 nvidia-cublas-cu11-11.10.3.66 nvidia-cuda-cupti-cu11-11.7.101 nvidia-cuda-nvrtc-cu11-11.7.99 nvidia-cuda-runtime-cu11-11.7.99 nvidia-cudnn-cu11-8.5.0.96 nvidia-cufft-cu11-10.9.0.58 nvidia-curand-cu11-10.2.10.91 nvidia-cusolver-cu11-11.4.0.1 nvidia-cusparse-cu11-11.7.4.91 nvidia-nccl-cu11-2.14.3 nvidia-nvtx-cu11-11.7.91 torch-2.0.1 torchvision-0.15.2 triton-2.0.0\n"
     ]
    }
   ],
   "source": [
    "# !pip3 install torchvision"
   ]
  },
  {
   "cell_type": "code",
   "execution_count": 1,
   "id": "da117228",
   "metadata": {},
   "outputs": [
    {
     "name": "stderr",
     "output_type": "stream",
     "text": [
      "/home/song/anaconda3/envs/Action/lib/python3.10/site-packages/torchvision/io/image.py:13: UserWarning: Failed to load image Python extension: /home/song/anaconda3/envs/Action/lib/python3.10/site-packages/torchvision/image.so: undefined symbol: _ZN5torch3jit17parseSchemaOrNameERKNSt7__cxx1112basic_stringIcSt11char_traitsIcESaIcEEE\n",
      "  warn(f\"Failed to load image Python extension: {e}\")\n"
     ]
    }
   ],
   "source": [
    "import torchvision"
   ]
  },
  {
   "cell_type": "code",
   "execution_count": null,
   "id": "fbadcdca",
   "metadata": {},
   "outputs": [],
   "source": [
    "class CustomDataset():\n",
    "    def __init__(self, image, lbl, transform=None):\n",
    "        self.image = image\n",
    "        self.lbl = lbl\n",
    "        if transform is not None:\n",
    "          self.transform = transform\n",
    "        \n",
    "    def __len__(self):\n",
    "        return len(self.image)\n",
    "\n",
    "    def __getitem__(self, idx):\n",
    "      image_path = self.image[idx]\n",
    "      label = self.lbl[idx]\n",
    "\n",
    "      image = PIL.Image.open(image_path).convert('RGB')\n",
    "      image = image.resize((224,224), resample=PIL.Image.BICUBIC)\n",
    "\n",
    "      if self.transform is not None:\n",
    "        image = self.transform(image)\n",
    "\n",
    "      plt.imshow(image[0,:,:], 'gray')\n",
    "      plt.title(f'{name}')\n",
    "\n",
    "      return image, torch.tensor(label, dtype=torch.float32)"
   ]
  },
  {
   "cell_type": "code",
   "execution_count": null,
   "id": "737403f3",
   "metadata": {},
   "outputs": [],
   "source": [
    "train_augment = torchvision.transforms.Compose([\n",
    "                               torchvision.transforms.RandomHorizontalFlip(),\n",
    "                               torchvision.transforms.RandomVerticalFlip(),\n",
    "                               torchvision.transforms.ToTensor()]\n",
    "                                                )\n",
    "\n",
    "test_augment = torchvision.transforms.Compose([\n",
    "                                torchvision.transforms.ToTensor()]\n",
    "                                              )"
   ]
  },
  {
   "cell_type": "code",
   "execution_count": null,
   "id": "f9219631",
   "metadata": {},
   "outputs": [],
   "source": []
  }
 ],
 "metadata": {
  "kernelspec": {
   "display_name": "Python 3 (ipykernel)",
   "language": "python",
   "name": "python3"
  },
  "language_info": {
   "codemirror_mode": {
    "name": "ipython",
    "version": 3
   },
   "file_extension": ".py",
   "mimetype": "text/x-python",
   "name": "python",
   "nbconvert_exporter": "python",
   "pygments_lexer": "ipython3",
   "version": "3.10.5"
  }
 },
 "nbformat": 4,
 "nbformat_minor": 5
}
